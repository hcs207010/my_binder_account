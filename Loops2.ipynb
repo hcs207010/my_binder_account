{
 "cells": [
  {
   "cell_type": "markdown",
   "metadata": {},
   "source": [
    "# Loops and Iteration\n",
    "\n",
    "\n",
    "`assumes you know the basics about variables and branching/conditionals-if not turn back to those notebooks`\n",
    "\n",
    "One of the important requirements of computational tasks is iteration. We have already seen the advantages of using conditionals. for instance, a program might want to print the word `dawg` and will ask the user how many times he wants to print it \n",
    "\n"
   ]
  },
  {
   "cell_type": "code",
   "execution_count": null,
   "metadata": {},
   "outputs": [],
   "source": [
    "numwords = int(input('How many times should I print the word dawg? '))\n",
    "toPrint = ''\n",
    "if numwords == 1:\n",
    "    toPrint = 'dawg'\n",
    "elif numwords == 2:\n",
    "    toPrint = 'dawgdawg'\n",
    "elif numwords == 3:\n",
    "    toPrint = 'dawgdawgdawg'\n",
    "\n",
    "print(toPrint)"
   ]
  },
  {
   "cell_type": "markdown",
   "metadata": {},
   "source": [
    "But the number of conditional statements would need to be huge to account for all possible user inputs. Rather, one might want functionality that does something like this:\n",
    "\n",
    "`Accept input for number of times a word must be printed`  \n",
    "`initialize toPrint variable`  \n",
    "`concatenate word to print dawg numXs number of times`  \n",
    "`print the result`"
   ]
  },
  {
   "cell_type": "markdown",
   "metadata": {},
   "source": [
    "### While loop\n",
    "\n",
    "In order to carry out this type of *iteration*, we have the *while* loop.\n",
    "\n",
    "It is similar to a conditional statement in that it begins with a **test**. If the test evaluates to `True`, the program executes the loop once. Then it goes back and re-evaluated that test...and continues until the test evaluates to `False`. The diagram below (source: Guttag, pg 23) shows this in a diagram.\n",
    "\n",
    "![Iteration (from Guttag, pg 23)](flow-chart-guttag.png)\n"
   ]
  },
  {
   "cell_type": "code",
   "execution_count": null,
   "metadata": {},
   "outputs": [],
   "source": [
    "numwords = int(input('How many times should I print the word dawg? '))\n",
    "toPrint = ''\n",
    "iterations=1\n",
    "\n",
    "while iterations<=numwords:\n",
    "\n",
    "    toPrint += 'dawg' #toPrint = toPrint + 'dawg'\n",
    "    iterations=iterations+1\n",
    "\n",
    "    \n",
    "print(toPrint)"
   ]
  },
  {
   "cell_type": "markdown",
   "metadata": {},
   "source": [
    "A *looping* mechanism as shown in the example above is helpful to do the same thing many times. There are some similarities with conditionals-the loop using the `while` statement begins with a **test**:-\n",
    "\n",
    "`while iterations<=numwords:`  \n",
    "\n",
    "If the test evaluates to `True`, then the program enters the body of the loop, executes the code in it once and then goes back to the `while` statement. If the statement is still true, the process is repeated until the test is `False`.\n",
    "\n",
    "We can print out the values of each variable in the loop to understand how this is working:-\n",
    "\n",
    "| numwords    | iterations  | toPrint |\n",
    "| ----------- | ----------- |-------  | \n",
    "| 3           | 1           |  dawg   |\n",
    "| 3           | 2           |  dawgdawg |\n",
    "| 3           | 3           |  dawgdawgdawg|\n",
    "\n",
    "\n",
    "The third time the test is evaluated it returns `False` as iterations is now 4, which does not pass the `while` condition. The loop is exited and `toPrint` is printed to stderr.\n"
   ]
  },
  {
   "cell_type": "code",
   "execution_count": null,
   "metadata": {},
   "outputs": [],
   "source": [
    "#A while loop can also iterate over a range of numbers e.g. to calculate whether there are numbers divisible by 11.\n",
    "x=1\n",
    "\n",
    "while x<100:\n",
    "    if x%11 == 0:\n",
    "        print('The number divisible by 11 is',x)\n",
    "        \n",
    "    x=x+1\n",
    "    \n"
   ]
  },
  {
   "cell_type": "markdown",
   "metadata": {},
   "source": [
    "While writing a loop, there must be a valid *decrementing* function, which at some point is going to stop the execution of a loop. What is the decrementing function in the program above? \n"
   ]
  },
  {
   "cell_type": "markdown",
   "metadata": {},
   "source": [
    "\n",
    "The below program takes as input 5 integer numbers and outputs the largest number. What happens to the values of lastnum and toPrint in the loop?\n"
   ]
  },
  {
   "cell_type": "code",
   "execution_count": null,
   "metadata": {},
   "outputs": [],
   "source": [
    "toPrint=''\n",
    "lastnum=0\n",
    "outeriter=1\n",
    "while outeriter<=5:\n",
    "    inputnum= int(input('enter an integer number '))\n",
    "    outeriter+=1\n",
    "    if inputnum> lastnum: \n",
    "            toPrint = inputnum\n",
    "            lastnum= inputnum\n",
    "\n",
    "\n",
    "print('the largest number is  ', toPrint)"
   ]
  },
  {
   "cell_type": "markdown",
   "metadata": {},
   "source": [
    "#### Exiting a loop\n",
    "\n",
    "\n",
    "The program below will work for most values of `x`, where `x>=1`. If `x=0`, then the program won't enter inside the while loop at all. But what happens when `x<0`? Try it out:-\n"
   ]
  },
  {
   "cell_type": "code",
   "execution_count": null,
   "metadata": {},
   "outputs": [],
   "source": [
    "# Square an integer, the hard way (from Guttag, pg 22)\n",
    "x = -2\n",
    "ans = 0\n",
    "itersLeft = abs(x)\n",
    "while (itersLeft != 0):\n",
    "    \n",
    "    ans = ans + x\n",
    "    itersLeft = itersLeft - 1\n",
    "    print('ans  ', ans)\n",
    "    print('itersLeft ', itersLeft)\n",
    "\n",
    "\n",
    "print(str(x) + '*' + str(x) + ' = ' + str(ans))"
   ]
  },
  {
   "cell_type": "markdown",
   "metadata": {},
   "source": [
    "Now, each time `itersLeft` gets updated, the value will become lesser than 0, and the loop executes forever. Not a good thing to happen to the program. Guttag suggests using the `abs` function to initialize itersLeft e.g. \n",
    "`itersLeft = abs(x)` to correct this problem. In order to print the square as a non-negative number, `ans=ans+abs(x)` will do the right thing. \n",
    "\n"
   ]
  },
  {
   "cell_type": "markdown",
   "metadata": {},
   "source": [
    "## For loops\n",
    "\n",
    "\n",
    "Loops with `while` are actually far less common than `for` loops which have the general format of\n",
    "\n",
    "    for variable in sequence:\n",
    "        code block\n",
    "\n",
    "The variable that follows `for` will be bound to the first item in the sequence (typically, this is a `list`, but we'll get to these a little later). The for loop will iterate through every item in the sequence, executing the code block under it, until the sequence is exhausted. We can use the function `range` to simulate such a sequence.\n",
    "\n"
   ]
  },
  {
   "cell_type": "code",
   "execution_count": null,
   "metadata": {},
   "outputs": [],
   "source": [
    "#for i in range(0, 5):\n",
    "#    print(i)\n",
    "\n",
    "\n",
    "    \n",
    "for i in range(100,10,-20):\n",
    "    print(i)\n"
   ]
  },
  {
   "cell_type": "markdown",
   "metadata": {},
   "source": [
    "Note that `range` takes three arguments *start*, *stop* and *step*. note that the *stop* position is **not** included in the sequence that is generated\n",
    "The expression `range(5,40,10)` will give us a sequence like 5,15,25,35. The value of the *step* arguement can also be negative, e.g. `range(100,10,-20)`gives us 100, 80, 60, 40, 20.\n",
    "\n",
    "\n"
   ]
  },
  {
   "cell_type": "markdown",
   "metadata": {},
   "source": [
    "The `for` statement can also be used in conjunction with `in` to iterate over the characters in a sequence like a *string*. For example, \n",
    "\n",
    "```python\n",
    "total = 0\n",
    "for c in '12345678':\n",
    "    total = total + int(c)\n",
    "print(total)\n",
    "```\n",
    "\n",
    "This will treat the string as a sequence, iterate over it one by one and print the total, after converting the string to an integer.\n",
    "\n"
   ]
  },
  {
   "cell_type": "markdown",
   "metadata": {},
   "source": [
    "#### enumerate in for loops\n",
    "\n",
    "Sometimes, we may want to include a counter in our `for` loop for various reasons, to tell us about the position we are at in the loop. Then the `enumerate` function can be helpful in the following way:-\n",
    "\n",
    "```python\n",
    "word='cheese'\n",
    "\n",
    "for i, character in enumerate(word):\n",
    "    print(character, 'appears at index', i)\n",
    "\n",
    "```\n",
    "It is also possible to change the indexing/counting to begin from a particular value i.e. 1 instead of 0.\n",
    "\n",
    "`for i, character in enumerate(word,1):`  "
   ]
  },
  {
   "cell_type": "code",
   "execution_count": null,
   "metadata": {},
   "outputs": [],
   "source": [
    "word='cheese'\n",
    "\n",
    "for i, character in enumerate(word, 1):\n",
    "    print(character, 'appears at index', i)"
   ]
  },
  {
   "cell_type": "markdown",
   "metadata": {},
   "source": [
    "### Break and continue\n",
    "\n",
    "In order to have more power over the flow of the program, there are two other statements that can be used\n",
    "\n",
    "`break` statement, breaks out of the closest enclosing `for` or `while` loop.\n",
    "\n",
    "`continue` statement jumps to the top of the closest enclosing loop\n",
    "\n",
    "\n",
    "The `while True` part of the code says that the loop will iterate forever, unless specifically asked to stop. Upon encountering the `if` condition, it will break out of the loop and stop asking for the name and age information\n",
    "\n"
   ]
  },
  {
   "cell_type": "code",
   "execution_count": null,
   "metadata": {},
   "outputs": [],
   "source": [
    "# example from Learning Python, 5e\n",
    "while True:\n",
    "\n",
    "    name = input('Enter name:')\n",
    "    if name == 'stop': \n",
    "        break\n",
    "\n",
    "    age = input('Enter age: ')\n",
    "\n",
    "    print('Hello', name, '=>', int(age))"
   ]
  },
  {
   "cell_type": "code",
   "execution_count": null,
   "metadata": {},
   "outputs": [],
   "source": [
    "#code from Python documentation\n",
    "for num in range(2, 10):\n",
    "    if num % 2 == 1:\n",
    "        print(\"Found an odd number\", num)\n",
    "        continue\n",
    "    print(\"Found a number\", num)"
   ]
  },
  {
   "cell_type": "markdown",
   "metadata": {},
   "source": [
    "### Exhaustive enumeration\n",
    "\n",
    "\n",
    "Below is an example of a program that takes a number as an input and finds out its cube root A cube root of a number is such that a<sup>3</sup> is equal to that number. E.g. cube root of 27 is 3, as 3<sup>3</sup> = 27. Cube roots can also be negative, hence cube root of -27 is -3.\n",
    "\n",
    "In the program below, `cube` has the value of 8. The program iterates from 0-8 to check whether this number has a cube root or not. Changing the value of cube to 9 will result in no output, but changing it to 27 should give us 3. 0, 1, 8, 27, 64 are `perfect cubes`, which have cube roots. \n",
    "\n",
    "The one thing we do know while searching for cube roots, is that their value can't be more than the number itself i.e. the cube root of 27 cannot be more than 27. We can use this intuition to create our loop."
   ]
  },
  {
   "cell_type": "code",
   "execution_count": null,
   "metadata": {},
   "outputs": [],
   "source": [
    "#example from Guttag's OCW slides\n",
    "\n",
    "cube=64\n",
    "\n",
    "for guess in range(cube+1):\n",
    "    \n",
    "    if guess**3 == cube:\n",
    "        print('cube root of ',cube, 'is ', guess)\n",
    "        break\n",
    "        \n",
    "\n"
   ]
  },
  {
   "cell_type": "code",
   "execution_count": null,
   "metadata": {},
   "outputs": [],
   "source": [
    "for i in range(9):\n",
    "    print(i)\n",
    "    "
   ]
  },
  {
   "cell_type": "markdown",
   "metadata": {},
   "source": [
    "Note that the example above is a case of enumerating every possible value to guess whether a given cube root exists or not. The `if` condition checks whether the number satisfies the condition. The code shown above may find the cube root, but would keep guessing even after the solution has been found.\n",
    "\n",
    "This type of iteration, where there is a guess followed by a check is called `exhaustive enumeration`"
   ]
  },
  {
   "cell_type": "code",
   "execution_count": 55,
   "metadata": {},
   "outputs": [
    {
     "name": "stdout",
     "output_type": "stream",
     "text": [
      "cube root of  1957816251 is  1251\n"
     ]
    }
   ],
   "source": [
    "#example from Guttag's OCW\n",
    "\n",
    "#cube=8\n",
    "cube=1957816251\n",
    "\n",
    "guess=0\n",
    "\n",
    "while guess**3 < abs(cube):\n",
    "    \n",
    "    guess=guess+1\n",
    "     \n",
    "    \n",
    "if guess**3 != abs(cube):\n",
    "    print('not a perfect cube')\n",
    "else:\n",
    "    if cube<0:\n",
    "        guess= -guess\n",
    "    print('cube root of ',cube, 'is ', guess)    \n",
    "\n"
   ]
  },
  {
   "cell_type": "markdown",
   "metadata": {},
   "source": [
    "### Bisection search\n",
    "\n",
    "\n",
    "Imagine we have to look up a word in a dictionary of English. I could begin with the first word and and examine the next, and so on until the right entry is found. In other words, I could enumerate each and every entry until I have found the right match. This would be an example of exhaustive enumeration.\n",
    "But in reality, I would know that the dictionary is *ordered* alphabetically, and I don't need to begin at *a* if my word begins with *m*. So I would rather begin searching the dictionary somewhere in the middle- if *m* appears before, then we go back, else we go forward. This way, we have made our search process much less cumbersome.\n",
    "\n",
    "If we know that a good approximation to the (positive) cube root of a number lies somewhere between 0 and a maximum value (i.e. the cube itself), then we have a range of numbers to choose from. As we don't know what exactly the cube root will be, we can start in the middle of 0--max. If that's not the right answer, then we ask whether it's too large or too small (recall the dictionary example). if too large, it must be smaller than our guess, and if too small then larger than our guess. We can then keep on repeating the process on a smaller interval of the search space. The image below illustrates this point (image source: John Guttag's MIT OCW).\n",
    "\n",
    "![bisection](bisection.png)"
   ]
  },
  {
   "cell_type": "markdown",
   "metadata": {},
   "source": [
    "\n",
    "\n",
    "Now let's look at what this code does in detail:\n",
    "\n",
    "The important line is **guess<sup>3</sup> - cube >= epsilon**\n",
    "\n",
    "If the answer is close to the cube root, then the difference in the guessed value<sup>3</sup> and cube's value is going to be only 0.01. Why is this value `epsilon` and not 0 ? This is because we'd like the program to stop when it reaches something close to the cube root rather than be exactly equal to the square root. Also, we don't really know what should be an answer for `cube=7`, which will end up running endlessly if guess<sup>3</sup> - cube >= 0. Hence rather than giving us an exact answer, the hope is that the code gives us a (very) good guess.\n",
    "\n",
    "The other two important variables are high and low, which follow the intuition described in the diagram above for bisection search. Initially, the low value is set to 0, and the high at the max value (cube). as the program iterates, the values of low and high are updated based on the `if` condition, and the number of guesses get cut in half.\n",
    "\n",
    "In the code below, note that at each iteration of the loop, the size of the search is cut in half. Rather than 1332 guesses that had to be made for exhaustive enumeration/brute force search, now there are only 23. The answer that we get is quite close to the correct answer. \n",
    "\n"
   ]
  },
  {
   "cell_type": "code",
   "execution_count": null,
   "metadata": {},
   "outputs": [],
   "source": [
    "#example from Guttag's OCW\n",
    "cube=1957816251\n",
    "\n",
    "epsilon = 0.01\n",
    "num_guesses=0\n",
    "low=0\n",
    "high=cube\n",
    "\n",
    "guess=(high+low)/2.0\n",
    "\n",
    "while abs(guess**3 - cube) >= epsilon:\n",
    "    print('low =', low, 'high =', high, 'guess =', guess)\n",
    "    if guess**3 < cube:\n",
    "        low=guess\n",
    "    \n",
    "    else:\n",
    "        high=guess\n",
    "    guess= (high+low)/2\n",
    "    num_guesses+=1\n",
    "\n",
    "print(guess, ' is close to the cube root of ', cube)\n",
    "\n",
    "print(num_guesses, ' = number of guesses')\n"
   ]
  },
  {
   "cell_type": "code",
   "execution_count": null,
   "metadata": {},
   "outputs": [],
   "source": []
  }
 ],
 "metadata": {
  "kernelspec": {
   "display_name": "Python 3",
   "language": "python",
   "name": "python3"
  },
  "language_info": {
   "codemirror_mode": {
    "name": "ipython",
    "version": 3
   },
   "file_extension": ".py",
   "mimetype": "text/x-python",
   "name": "python",
   "nbconvert_exporter": "python",
   "pygments_lexer": "ipython3",
   "version": "3.7.6"
  }
 },
 "nbformat": 4,
 "nbformat_minor": 4
}
