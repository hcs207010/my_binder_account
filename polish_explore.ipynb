{
 "cells": [
  {
   "cell_type": "code",
   "execution_count": 8,
   "metadata": {},
   "outputs": [],
   "source": [
    "\n",
    "def parse(file_name):\n",
    "    \"\"\"Parses the CSV file specified by file_name and returns the data as a list\n",
    "    of dictionaries where each row is represented by a dictionary that\n",
    "    has keys for each column and value which is the entry for that column\n",
    "    at that row.\"\"\"\n",
    "    data =[]\n",
    "    with open(file_name) as f:\n",
    "        headers = f.readline().strip().split(',')\n",
    "        num_cols = len(headers)\n",
    "\n",
    "        for line in f.readlines():\n",
    "            row_data = line.strip().split(',')\n",
    "            row = {}\n",
    "\n",
    "            for i in range(num_cols):\n",
    "                row[headers[i]] = row_data[i]\n",
    "\n",
    "            data.append(row)\n",
    "    return data\n",
    "\n",
    "\n",
    "##### ENTER YOUR FUNCTIONS HERE #####\n",
    "\n"
   ]
  },
  {
   "cell_type": "code",
   "execution_count": null,
   "metadata": {},
   "outputs": [],
   "source": [
    "\n",
    "\n",
    "#reading in the dataset\n",
    "POLISH_DATASET = 'polish_datasetv2.csv'\n",
    "data = parse(POLISH_DATASET)\n",
    "\n",
    "\n",
    "\n",
    "print('=== Printing Output ===')\n",
    "print('Colour count:', colour_count(data))\n",
    "print('Brand with the maximum count:', brand_max(data))\n",
    "print('Count nulls in names', count_null_names(data))\n",
    "print('Filter names by colour', filter_by_colour(data,'green'))\n",
    "print('Find long names', find_long_names(data))\n",
    "    \n"
   ]
  },
  {
   "cell_type": "code",
   "execution_count": null,
   "metadata": {},
   "outputs": [],
   "source": []
  }
 ],
 "metadata": {
  "kernelspec": {
   "display_name": "Python 3",
   "language": "python",
   "name": "python3"
  },
  "language_info": {
   "codemirror_mode": {
    "name": "ipython",
    "version": 3
   },
   "file_extension": ".py",
   "mimetype": "text/x-python",
   "name": "python",
   "nbconvert_exporter": "python",
   "pygments_lexer": "ipython3",
   "version": "3.7.6"
  }
 },
 "nbformat": 4,
 "nbformat_minor": 4
}
